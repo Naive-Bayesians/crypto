{
 "cells": [
  {
   "cell_type": "markdown",
   "id": "d0985077",
   "metadata": {},
   "source": [
    "# Getting Started with the Coinbase Pro Sandbox API\n",
    "## ... with `ccxt`\n",
    "\n",
    "\n",
    "### Before you'll be able to run this notebook\n",
    "\n",
    "### Create a CoinbasePro Account \n",
    "Your coinbase account can be used in a sandbox mode\n",
    "\n",
    "* Sign up to a  CoinbasePro account\n",
    "* Login to https://public.sandbox.pro.coinbase.com/\n",
    "* Go to the API section and generate an API key\n",
    "* Make sure to save the API secret, Passphrase, and API Key in a safe place\n",
    "* Save your API keys in you `bash_profile`\n",
    "\n",
    "\n",
    "### Deposit some \"monopoly money\" USD into your Sandbox CoinbasePro Account \n",
    "To add funds, use the web interface deposit buttons as you would on the production web interface.\n",
    "\n"
   ]
  },
  {
   "cell_type": "markdown",
   "id": "fc231569",
   "metadata": {},
   "source": [
    "#### NB Setup commands"
   ]
  },
  {
   "cell_type": "code",
   "execution_count": 1,
   "id": "aa7d3646",
   "metadata": {},
   "outputs": [
    {
     "data": {
      "text/html": [
       "<style>.container { width:80% !important; }</style>"
      ],
      "text/plain": [
       "<IPython.core.display.HTML object>"
      ]
     },
     "metadata": {},
     "output_type": "display_data"
    },
    {
     "data": {
      "application/javascript": [
       "\n",
       "            setTimeout(function() {\n",
       "                var nbb_cell_id = 1;\n",
       "                var nbb_unformatted_code = \"%load_ext nb_black\\n%load_ext autoreload\\n%autoreload 2\\n\\nimport os\\nfrom pathlib import Path\\nfrom IPython.display import HTML\\n\\n\\ndef set_paths() -> None:\\n\\n    if \\\"cwd\\\" not in globals():\\n        global cwd\\n        cwd = Path(os.getcwd()).parents[1]\\n        os.chdir(cwd)\\n\\n\\nset_paths()\\ndisplay(HTML(\\\"<style>.container { width:80% !important; }</style>\\\"))\";\n",
       "                var nbb_formatted_code = \"%load_ext nb_black\\n%load_ext autoreload\\n%autoreload 2\\n\\nimport os\\nfrom pathlib import Path\\nfrom IPython.display import HTML\\n\\n\\ndef set_paths() -> None:\\n\\n    if \\\"cwd\\\" not in globals():\\n        global cwd\\n        cwd = Path(os.getcwd()).parents[1]\\n        os.chdir(cwd)\\n\\n\\nset_paths()\\ndisplay(HTML(\\\"<style>.container { width:80% !important; }</style>\\\"))\";\n",
       "                var nbb_cells = Jupyter.notebook.get_cells();\n",
       "                for (var i = 0; i < nbb_cells.length; ++i) {\n",
       "                    if (nbb_cells[i].input_prompt_number == nbb_cell_id) {\n",
       "                        if (nbb_cells[i].get_text() == nbb_unformatted_code) {\n",
       "                             nbb_cells[i].set_text(nbb_formatted_code);\n",
       "                        }\n",
       "                        break;\n",
       "                    }\n",
       "                }\n",
       "            }, 500);\n",
       "            "
      ],
      "text/plain": [
       "<IPython.core.display.Javascript object>"
      ]
     },
     "metadata": {},
     "output_type": "display_data"
    }
   ],
   "source": [
    "%load_ext nb_black\n",
    "%load_ext autoreload\n",
    "%autoreload 2\n",
    "\n",
    "import os\n",
    "from pathlib import Path\n",
    "from IPython.display import HTML\n",
    "\n",
    "\n",
    "def set_paths() -> None:\n",
    "\n",
    "    if \"cwd\" not in globals():\n",
    "        global cwd\n",
    "        cwd = Path(os.getcwd()).parents[1]\n",
    "        os.chdir(cwd)\n",
    "\n",
    "\n",
    "set_paths()\n",
    "display(HTML(\"<style>.container { width:80% !important; }</style>\"))"
   ]
  },
  {
   "cell_type": "code",
   "execution_count": 2,
   "id": "95be1fd1",
   "metadata": {},
   "outputs": [
    {
     "data": {
      "application/javascript": [
       "\n",
       "            setTimeout(function() {\n",
       "                var nbb_cell_id = 2;\n",
       "                var nbb_unformatted_code = \"# All modules within the src/crypto can be called like this:\\nfrom crypto.utils import config_utils\\nimport ccxt\\n\\nimport pandas as pd\";\n",
       "                var nbb_formatted_code = \"# All modules within the src/crypto can be called like this:\\nfrom crypto.utils import config_utils\\nimport ccxt\\n\\nimport pandas as pd\";\n",
       "                var nbb_cells = Jupyter.notebook.get_cells();\n",
       "                for (var i = 0; i < nbb_cells.length; ++i) {\n",
       "                    if (nbb_cells[i].input_prompt_number == nbb_cell_id) {\n",
       "                        if (nbb_cells[i].get_text() == nbb_unformatted_code) {\n",
       "                             nbb_cells[i].set_text(nbb_formatted_code);\n",
       "                        }\n",
       "                        break;\n",
       "                    }\n",
       "                }\n",
       "            }, 500);\n",
       "            "
      ],
      "text/plain": [
       "<IPython.core.display.Javascript object>"
      ]
     },
     "metadata": {},
     "output_type": "display_data"
    }
   ],
   "source": [
    "# All modules within the src/crypto can be called like this:\n",
    "from crypto.utils import config_utils\n",
    "import ccxt\n",
    "\n",
    "import pandas as pd"
   ]
  },
  {
   "cell_type": "code",
   "execution_count": null,
   "id": "395ea8f4",
   "metadata": {},
   "outputs": [],
   "source": []
  },
  {
   "cell_type": "code",
   "execution_count": 3,
   "id": "939f70b9",
   "metadata": {},
   "outputs": [
    {
     "data": {
      "application/javascript": [
       "\n",
       "            setTimeout(function() {\n",
       "                var nbb_cell_id = 3;\n",
       "                var nbb_unformatted_code = \"# Create an instance\";\n",
       "                var nbb_formatted_code = \"# Create an instance\";\n",
       "                var nbb_cells = Jupyter.notebook.get_cells();\n",
       "                for (var i = 0; i < nbb_cells.length; ++i) {\n",
       "                    if (nbb_cells[i].input_prompt_number == nbb_cell_id) {\n",
       "                        if (nbb_cells[i].get_text() == nbb_unformatted_code) {\n",
       "                             nbb_cells[i].set_text(nbb_formatted_code);\n",
       "                        }\n",
       "                        break;\n",
       "                    }\n",
       "                }\n",
       "            }, 500);\n",
       "            "
      ],
      "text/plain": [
       "<IPython.core.display.Javascript object>"
      ]
     },
     "metadata": {},
     "output_type": "display_data"
    }
   ],
   "source": [
    "# Create an instance"
   ]
  },
  {
   "cell_type": "code",
   "execution_count": 4,
   "id": "8814147a",
   "metadata": {},
   "outputs": [
    {
     "data": {
      "application/javascript": [
       "\n",
       "            setTimeout(function() {\n",
       "                var nbb_cell_id = 4;\n",
       "                var nbb_unformatted_code = \"exchange = ccxt.coinbasepro(\\n    {\\n        \\\"apiKey\\\": os.environ.get(\\\"COINBASE_PRO_SNDBX_API_KEY\\\"),\\n        \\\"secret\\\": os.environ.get(\\\"COINBASE_PRO_SNDBX_API_SECRET\\\"),\\n        \\\"password\\\": os.environ.get(\\\"COINBASE_PRO_SNDBX_API_PASSPHRASE\\\"),\\n    }\\n)\";\n",
       "                var nbb_formatted_code = \"exchange = ccxt.coinbasepro(\\n    {\\n        \\\"apiKey\\\": os.environ.get(\\\"COINBASE_PRO_SNDBX_API_KEY\\\"),\\n        \\\"secret\\\": os.environ.get(\\\"COINBASE_PRO_SNDBX_API_SECRET\\\"),\\n        \\\"password\\\": os.environ.get(\\\"COINBASE_PRO_SNDBX_API_PASSPHRASE\\\"),\\n    }\\n)\";\n",
       "                var nbb_cells = Jupyter.notebook.get_cells();\n",
       "                for (var i = 0; i < nbb_cells.length; ++i) {\n",
       "                    if (nbb_cells[i].input_prompt_number == nbb_cell_id) {\n",
       "                        if (nbb_cells[i].get_text() == nbb_unformatted_code) {\n",
       "                             nbb_cells[i].set_text(nbb_formatted_code);\n",
       "                        }\n",
       "                        break;\n",
       "                    }\n",
       "                }\n",
       "            }, 500);\n",
       "            "
      ],
      "text/plain": [
       "<IPython.core.display.Javascript object>"
      ]
     },
     "metadata": {},
     "output_type": "display_data"
    }
   ],
   "source": [
    "exchange = ccxt.coinbasepro(\n",
    "    {\n",
    "        \"apiKey\": os.environ.get(\"COINBASE_PRO_SNDBX_API_KEY\"),\n",
    "        \"secret\": os.environ.get(\"COINBASE_PRO_SNDBX_API_SECRET\"),\n",
    "        \"password\": os.environ.get(\"COINBASE_PRO_SNDBX_API_PASSPHRASE\"),\n",
    "    }\n",
    ")"
   ]
  },
  {
   "cell_type": "code",
   "execution_count": 5,
   "id": "ef2abc39",
   "metadata": {},
   "outputs": [
    {
     "data": {
      "application/javascript": [
       "\n",
       "            setTimeout(function() {\n",
       "                var nbb_cell_id = 5;\n",
       "                var nbb_unformatted_code = \"# This has to be set before any \\nexchange.set_sandbox_mode(True)\";\n",
       "                var nbb_formatted_code = \"# This has to be set before any\\nexchange.set_sandbox_mode(True)\";\n",
       "                var nbb_cells = Jupyter.notebook.get_cells();\n",
       "                for (var i = 0; i < nbb_cells.length; ++i) {\n",
       "                    if (nbb_cells[i].input_prompt_number == nbb_cell_id) {\n",
       "                        if (nbb_cells[i].get_text() == nbb_unformatted_code) {\n",
       "                             nbb_cells[i].set_text(nbb_formatted_code);\n",
       "                        }\n",
       "                        break;\n",
       "                    }\n",
       "                }\n",
       "            }, 500);\n",
       "            "
      ],
      "text/plain": [
       "<IPython.core.display.Javascript object>"
      ]
     },
     "metadata": {},
     "output_type": "display_data"
    }
   ],
   "source": [
    "# This has to be set before any\n",
    "exchange.set_sandbox_mode(True)"
   ]
  },
  {
   "cell_type": "code",
   "execution_count": 6,
   "id": "a45c655d",
   "metadata": {
    "scrolled": true
   },
   "outputs": [
    {
     "data": {
      "text/html": [
       "<div>\n",
       "<style scoped>\n",
       "    .dataframe tbody tr th:only-of-type {\n",
       "        vertical-align: middle;\n",
       "    }\n",
       "\n",
       "    .dataframe tbody tr th {\n",
       "        vertical-align: top;\n",
       "    }\n",
       "\n",
       "    .dataframe thead th {\n",
       "        text-align: right;\n",
       "    }\n",
       "</style>\n",
       "<table border=\"1\" class=\"dataframe\">\n",
       "  <thead>\n",
       "    <tr style=\"text-align: right;\">\n",
       "      <th></th>\n",
       "      <th>id</th>\n",
       "      <th>currency</th>\n",
       "      <th>balance</th>\n",
       "      <th>hold</th>\n",
       "      <th>available</th>\n",
       "      <th>profile_id</th>\n",
       "      <th>trading_enabled</th>\n",
       "    </tr>\n",
       "  </thead>\n",
       "  <tbody>\n",
       "    <tr>\n",
       "      <th>0</th>\n",
       "      <td>f0392e90-ea2c-415a-892b-c078313ec111</td>\n",
       "      <td>BAT</td>\n",
       "      <td>0.0000000000000000</td>\n",
       "      <td>0.0000000000000000</td>\n",
       "      <td>0</td>\n",
       "      <td>02ee6478-9c16-4ce4-8890-df26d1470148</td>\n",
       "      <td>True</td>\n",
       "    </tr>\n",
       "    <tr>\n",
       "      <th>1</th>\n",
       "      <td>4e362e42-9695-4f86-8df9-c6a257e86e58</td>\n",
       "      <td>BTC</td>\n",
       "      <td>0.0000000000000000</td>\n",
       "      <td>0.0000000000000000</td>\n",
       "      <td>0</td>\n",
       "      <td>02ee6478-9c16-4ce4-8890-df26d1470148</td>\n",
       "      <td>True</td>\n",
       "    </tr>\n",
       "    <tr>\n",
       "      <th>2</th>\n",
       "      <td>52aef18b-dec4-45b0-9afa-2d30f6337304</td>\n",
       "      <td>ETH</td>\n",
       "      <td>0.0000000000000000</td>\n",
       "      <td>0.0000000000000000</td>\n",
       "      <td>0</td>\n",
       "      <td>02ee6478-9c16-4ce4-8890-df26d1470148</td>\n",
       "      <td>True</td>\n",
       "    </tr>\n",
       "    <tr>\n",
       "      <th>3</th>\n",
       "      <td>b1f4d8ea-1f0a-4fa0-b438-11706830d539</td>\n",
       "      <td>EUR</td>\n",
       "      <td>0.0000000000000000</td>\n",
       "      <td>0.0000000000000000</td>\n",
       "      <td>0</td>\n",
       "      <td>02ee6478-9c16-4ce4-8890-df26d1470148</td>\n",
       "      <td>True</td>\n",
       "    </tr>\n",
       "    <tr>\n",
       "      <th>4</th>\n",
       "      <td>fe1d87e6-2c51-4f40-b1e0-e2c01d30d3dd</td>\n",
       "      <td>GBP</td>\n",
       "      <td>0.0000000000000000</td>\n",
       "      <td>0.0000000000000000</td>\n",
       "      <td>0</td>\n",
       "      <td>02ee6478-9c16-4ce4-8890-df26d1470148</td>\n",
       "      <td>True</td>\n",
       "    </tr>\n",
       "    <tr>\n",
       "      <th>5</th>\n",
       "      <td>14912ca4-a37c-49eb-b2e9-63e308430e8a</td>\n",
       "      <td>LINK</td>\n",
       "      <td>0.0000000000000000</td>\n",
       "      <td>0.0000000000000000</td>\n",
       "      <td>0</td>\n",
       "      <td>02ee6478-9c16-4ce4-8890-df26d1470148</td>\n",
       "      <td>True</td>\n",
       "    </tr>\n",
       "    <tr>\n",
       "      <th>6</th>\n",
       "      <td>3060a0a4-5d40-4716-b6ec-1341ffb85b25</td>\n",
       "      <td>USD</td>\n",
       "      <td>497779.2883723753095000</td>\n",
       "      <td>0.0000000000000000</td>\n",
       "      <td>497779.2883723753095</td>\n",
       "      <td>02ee6478-9c16-4ce4-8890-df26d1470148</td>\n",
       "      <td>True</td>\n",
       "    </tr>\n",
       "    <tr>\n",
       "      <th>7</th>\n",
       "      <td>5ebc8de1-1a58-4445-a856-d814de61cdd7</td>\n",
       "      <td>USDC</td>\n",
       "      <td>0.0000000000000000</td>\n",
       "      <td>0.0000000000000000</td>\n",
       "      <td>0</td>\n",
       "      <td>02ee6478-9c16-4ce4-8890-df26d1470148</td>\n",
       "      <td>True</td>\n",
       "    </tr>\n",
       "  </tbody>\n",
       "</table>\n",
       "</div>"
      ],
      "text/plain": [
       "                                     id currency                  balance  \\\n",
       "0  f0392e90-ea2c-415a-892b-c078313ec111      BAT       0.0000000000000000   \n",
       "1  4e362e42-9695-4f86-8df9-c6a257e86e58      BTC       0.0000000000000000   \n",
       "2  52aef18b-dec4-45b0-9afa-2d30f6337304      ETH       0.0000000000000000   \n",
       "3  b1f4d8ea-1f0a-4fa0-b438-11706830d539      EUR       0.0000000000000000   \n",
       "4  fe1d87e6-2c51-4f40-b1e0-e2c01d30d3dd      GBP       0.0000000000000000   \n",
       "5  14912ca4-a37c-49eb-b2e9-63e308430e8a     LINK       0.0000000000000000   \n",
       "6  3060a0a4-5d40-4716-b6ec-1341ffb85b25      USD  497779.2883723753095000   \n",
       "7  5ebc8de1-1a58-4445-a856-d814de61cdd7     USDC       0.0000000000000000   \n",
       "\n",
       "                 hold             available  \\\n",
       "0  0.0000000000000000                     0   \n",
       "1  0.0000000000000000                     0   \n",
       "2  0.0000000000000000                     0   \n",
       "3  0.0000000000000000                     0   \n",
       "4  0.0000000000000000                     0   \n",
       "5  0.0000000000000000                     0   \n",
       "6  0.0000000000000000  497779.2883723753095   \n",
       "7  0.0000000000000000                     0   \n",
       "\n",
       "                             profile_id  trading_enabled  \n",
       "0  02ee6478-9c16-4ce4-8890-df26d1470148             True  \n",
       "1  02ee6478-9c16-4ce4-8890-df26d1470148             True  \n",
       "2  02ee6478-9c16-4ce4-8890-df26d1470148             True  \n",
       "3  02ee6478-9c16-4ce4-8890-df26d1470148             True  \n",
       "4  02ee6478-9c16-4ce4-8890-df26d1470148             True  \n",
       "5  02ee6478-9c16-4ce4-8890-df26d1470148             True  \n",
       "6  02ee6478-9c16-4ce4-8890-df26d1470148             True  \n",
       "7  02ee6478-9c16-4ce4-8890-df26d1470148             True  "
      ]
     },
     "execution_count": 6,
     "metadata": {},
     "output_type": "execute_result"
    },
    {
     "data": {
      "application/javascript": [
       "\n",
       "            setTimeout(function() {\n",
       "                var nbb_cell_id = 6;\n",
       "                var nbb_unformatted_code = \"# If your API key, secret or passwords is not setup correctly,\\n# ... you'll get an authentication error\\naccount_balance = exchange.fetch_balance()\\npd.DataFrame.from_records(account_balance[\\\"info\\\"])\";\n",
       "                var nbb_formatted_code = \"# If your API key, secret or passwords is not setup correctly,\\n# ... you'll get an authentication error\\naccount_balance = exchange.fetch_balance()\\npd.DataFrame.from_records(account_balance[\\\"info\\\"])\";\n",
       "                var nbb_cells = Jupyter.notebook.get_cells();\n",
       "                for (var i = 0; i < nbb_cells.length; ++i) {\n",
       "                    if (nbb_cells[i].input_prompt_number == nbb_cell_id) {\n",
       "                        if (nbb_cells[i].get_text() == nbb_unformatted_code) {\n",
       "                             nbb_cells[i].set_text(nbb_formatted_code);\n",
       "                        }\n",
       "                        break;\n",
       "                    }\n",
       "                }\n",
       "            }, 500);\n",
       "            "
      ],
      "text/plain": [
       "<IPython.core.display.Javascript object>"
      ]
     },
     "metadata": {},
     "output_type": "display_data"
    }
   ],
   "source": [
    "# If your API key, secret or passwords is not setup correctly,\n",
    "# ... you'll get an authentication error\n",
    "account_balance = exchange.fetch_balance()\n",
    "pd.DataFrame.from_records(account_balance[\"info\"])"
   ]
  },
  {
   "cell_type": "code",
   "execution_count": null,
   "id": "d25b6ed6",
   "metadata": {},
   "outputs": [],
   "source": []
  },
  {
   "cell_type": "code",
   "execution_count": null,
   "id": "1a383217",
   "metadata": {},
   "outputs": [],
   "source": []
  },
  {
   "cell_type": "markdown",
   "id": "27a16a1c",
   "metadata": {},
   "source": []
  },
  {
   "cell_type": "markdown",
   "id": "9d440ee0",
   "metadata": {},
   "source": [
    "# Getting historical data\n",
    "\n",
    "OHLCV is an aggregated form of market data standing for Open, High, Low, Close and Volume. OHLCV data includes 5 data points: the Open and Close represent the first and the last price level during a specified interval. High and Low represent the highest and lowest reached price during that interval. Volume is the total amount traded during that period. This data is most frequently represented in a candlestick chart, which allows traders to perform technical analysis on intraday values. We provide OHLCV data in granularities ranging from 1 second to 1 day. \n",
    "\n",
    "\n",
    "\n",
    "* Timestamp\tEpoch timestamp in milliseconds. You can learn more about timestamps, including how to convert them to human readable form, here. \n",
    "* Open\tOpening price of the time interval in quote currency (For BTC/USD, the price would be USD).\n",
    "* High\tHighest price reached during time interval, in quote currency.\n",
    "*Low\tLowest price reached during time interval, in quote currency.\n",
    "* Close\tClosing price of the time interval, in the quote currency. \n",
    "* Volume\tQuantity of asset bought or sold, displayed in base currency."
   ]
  },
  {
   "cell_type": "code",
   "execution_count": 7,
   "id": "5fdac110",
   "metadata": {},
   "outputs": [
    {
     "data": {
      "text/plain": [
       "{'1m': 60, '5m': 300, '15m': 900, '1h': 3600, '6h': 21600, '1d': 86400}"
      ]
     },
     "execution_count": 7,
     "metadata": {},
     "output_type": "execute_result"
    },
    {
     "data": {
      "application/javascript": [
       "\n",
       "            setTimeout(function() {\n",
       "                var nbb_cell_id = 7;\n",
       "                var nbb_unformatted_code = \"# Available timeframes\\nexchange.timeframes\";\n",
       "                var nbb_formatted_code = \"# Available timeframes\\nexchange.timeframes\";\n",
       "                var nbb_cells = Jupyter.notebook.get_cells();\n",
       "                for (var i = 0; i < nbb_cells.length; ++i) {\n",
       "                    if (nbb_cells[i].input_prompt_number == nbb_cell_id) {\n",
       "                        if (nbb_cells[i].get_text() == nbb_unformatted_code) {\n",
       "                             nbb_cells[i].set_text(nbb_formatted_code);\n",
       "                        }\n",
       "                        break;\n",
       "                    }\n",
       "                }\n",
       "            }, 500);\n",
       "            "
      ],
      "text/plain": [
       "<IPython.core.display.Javascript object>"
      ]
     },
     "metadata": {},
     "output_type": "display_data"
    }
   ],
   "source": [
    "# Available timeframes\n",
    "exchange.timeframes"
   ]
  },
  {
   "cell_type": "code",
   "execution_count": 8,
   "id": "0a0c7326",
   "metadata": {},
   "outputs": [
    {
     "data": {
      "text/plain": [
       "1634860800000"
      ]
     },
     "execution_count": 8,
     "metadata": {},
     "output_type": "execute_result"
    },
    {
     "data": {
      "application/javascript": [
       "\n",
       "            setTimeout(function() {\n",
       "                var nbb_cell_id = 8;\n",
       "                var nbb_unformatted_code = \"from_datetime = \\\"2021-10-22 00:00:00\\\"\\nfrom_timestamp = exchange.parse8601(from_datetime)\\nfrom_timestamp\";\n",
       "                var nbb_formatted_code = \"from_datetime = \\\"2021-10-22 00:00:00\\\"\\nfrom_timestamp = exchange.parse8601(from_datetime)\\nfrom_timestamp\";\n",
       "                var nbb_cells = Jupyter.notebook.get_cells();\n",
       "                for (var i = 0; i < nbb_cells.length; ++i) {\n",
       "                    if (nbb_cells[i].input_prompt_number == nbb_cell_id) {\n",
       "                        if (nbb_cells[i].get_text() == nbb_unformatted_code) {\n",
       "                             nbb_cells[i].set_text(nbb_formatted_code);\n",
       "                        }\n",
       "                        break;\n",
       "                    }\n",
       "                }\n",
       "            }, 500);\n",
       "            "
      ],
      "text/plain": [
       "<IPython.core.display.Javascript object>"
      ]
     },
     "metadata": {},
     "output_type": "display_data"
    }
   ],
   "source": [
    "from_datetime = \"2021-10-22 00:00:00\"\n",
    "from_timestamp = exchange.parse8601(from_datetime)\n",
    "from_timestamp"
   ]
  },
  {
   "cell_type": "code",
   "execution_count": null,
   "id": "cbea5d73",
   "metadata": {},
   "outputs": [],
   "source": []
  },
  {
   "cell_type": "code",
   "execution_count": 9,
   "id": "d3b22d65",
   "metadata": {},
   "outputs": [
    {
     "data": {
      "application/javascript": [
       "\n",
       "            setTimeout(function() {\n",
       "                var nbb_cell_id = 9;\n",
       "                var nbb_unformatted_code = \"ohlcvs = exchange.fetch_ohlcv(symbol='BTC/USD', timeframe='5m', since=from_timestamp, limit=None)\";\n",
       "                var nbb_formatted_code = \"ohlcvs = exchange.fetch_ohlcv(\\n    symbol=\\\"BTC/USD\\\", timeframe=\\\"5m\\\", since=from_timestamp, limit=None\\n)\";\n",
       "                var nbb_cells = Jupyter.notebook.get_cells();\n",
       "                for (var i = 0; i < nbb_cells.length; ++i) {\n",
       "                    if (nbb_cells[i].input_prompt_number == nbb_cell_id) {\n",
       "                        if (nbb_cells[i].get_text() == nbb_unformatted_code) {\n",
       "                             nbb_cells[i].set_text(nbb_formatted_code);\n",
       "                        }\n",
       "                        break;\n",
       "                    }\n",
       "                }\n",
       "            }, 500);\n",
       "            "
      ],
      "text/plain": [
       "<IPython.core.display.Javascript object>"
      ]
     },
     "metadata": {},
     "output_type": "display_data"
    }
   ],
   "source": [
    "ohlcvs = exchange.fetch_ohlcv(\n",
    "    symbol=\"BTC/USD\", timeframe=\"5m\", since=from_timestamp, limit=None\n",
    ")"
   ]
  },
  {
   "cell_type": "code",
   "execution_count": null,
   "id": "dbfc3ecb",
   "metadata": {},
   "outputs": [],
   "source": [
    "\n"
   ]
  },
  {
   "cell_type": "code",
   "execution_count": 10,
   "id": "2dd32987",
   "metadata": {},
   "outputs": [
    {
     "data": {
      "application/javascript": [
       "\n",
       "            setTimeout(function() {\n",
       "                var nbb_cell_id = 10;\n",
       "                var nbb_unformatted_code = \"df_historical_data = pd.DataFrame.from_records(\\n    ohlcvs, columns=[\\\"timestamp\\\", \\\"open\\\", \\\"high\\\", \\\"low\\\", \\\"close\\\", \\\"volume\\\"]\\n).assign(datetime=lambda x: pd.to_datetime(x[\\\"timestamp\\\"], unit=\\\"ms\\\"))\";\n",
       "                var nbb_formatted_code = \"df_historical_data = pd.DataFrame.from_records(\\n    ohlcvs, columns=[\\\"timestamp\\\", \\\"open\\\", \\\"high\\\", \\\"low\\\", \\\"close\\\", \\\"volume\\\"]\\n).assign(datetime=lambda x: pd.to_datetime(x[\\\"timestamp\\\"], unit=\\\"ms\\\"))\";\n",
       "                var nbb_cells = Jupyter.notebook.get_cells();\n",
       "                for (var i = 0; i < nbb_cells.length; ++i) {\n",
       "                    if (nbb_cells[i].input_prompt_number == nbb_cell_id) {\n",
       "                        if (nbb_cells[i].get_text() == nbb_unformatted_code) {\n",
       "                             nbb_cells[i].set_text(nbb_formatted_code);\n",
       "                        }\n",
       "                        break;\n",
       "                    }\n",
       "                }\n",
       "            }, 500);\n",
       "            "
      ],
      "text/plain": [
       "<IPython.core.display.Javascript object>"
      ]
     },
     "metadata": {},
     "output_type": "display_data"
    }
   ],
   "source": [
    "df_historical_data = pd.DataFrame.from_records(\n",
    "    ohlcvs, columns=[\"timestamp\", \"open\", \"high\", \"low\", \"close\", \"volume\"]\n",
    ").assign(datetime=lambda x: pd.to_datetime(x[\"timestamp\"], unit=\"ms\"))"
   ]
  },
  {
   "cell_type": "markdown",
   "id": "e820d3d0",
   "metadata": {},
   "source": [
    "# Start trading!"
   ]
  },
  {
   "cell_type": "markdown",
   "id": "a613915e",
   "metadata": {},
   "source": [
    "## Buy"
   ]
  },
  {
   "cell_type": "code",
   "execution_count": 11,
   "id": "a0959af3",
   "metadata": {},
   "outputs": [
    {
     "data": {
      "text/plain": [
       "{'id': 'cf409b91-a506-430e-8be4-06939ab52cb2',\n",
       " 'clientOrderId': None,\n",
       " 'info': {'id': 'cf409b91-a506-430e-8be4-06939ab52cb2',\n",
       "  'size': '1',\n",
       "  'product_id': 'BTC-USD',\n",
       "  'side': 'buy',\n",
       "  'stp': 'dc',\n",
       "  'funds': '495302.77449987',\n",
       "  'type': 'market',\n",
       "  'post_only': False,\n",
       "  'created_at': '2021-10-22T22:45:21.857509Z',\n",
       "  'fill_fees': '0',\n",
       "  'filled_size': '0',\n",
       "  'executed_value': '0',\n",
       "  'status': 'pending',\n",
       "  'settled': False},\n",
       " 'timestamp': 1634942721857,\n",
       " 'datetime': '2021-10-22T22:45:21.857Z',\n",
       " 'lastTradeTimestamp': None,\n",
       " 'status': 'open',\n",
       " 'symbol': 'BTC/USD',\n",
       " 'type': 'market',\n",
       " 'timeInForce': None,\n",
       " 'postOnly': False,\n",
       " 'side': 'buy',\n",
       " 'price': None,\n",
       " 'stopPrice': None,\n",
       " 'cost': 0.0,\n",
       " 'amount': 1.0,\n",
       " 'filled': 0.0,\n",
       " 'remaining': 1.0,\n",
       " 'fee': {'cost': 0.0, 'currency': 'USD', 'rate': None},\n",
       " 'average': None,\n",
       " 'trades': None,\n",
       " 'fees': [{'cost': 0.0, 'currency': 'USD', 'rate': None}]}"
      ]
     },
     "execution_count": 11,
     "metadata": {},
     "output_type": "execute_result"
    },
    {
     "data": {
      "application/javascript": [
       "\n",
       "            setTimeout(function() {\n",
       "                var nbb_cell_id = 11;\n",
       "                var nbb_unformatted_code = \"exchange.create_market_buy_order('BTC/USD', amount=1)\";\n",
       "                var nbb_formatted_code = \"exchange.create_market_buy_order(\\\"BTC/USD\\\", amount=1)\";\n",
       "                var nbb_cells = Jupyter.notebook.get_cells();\n",
       "                for (var i = 0; i < nbb_cells.length; ++i) {\n",
       "                    if (nbb_cells[i].input_prompt_number == nbb_cell_id) {\n",
       "                        if (nbb_cells[i].get_text() == nbb_unformatted_code) {\n",
       "                             nbb_cells[i].set_text(nbb_formatted_code);\n",
       "                        }\n",
       "                        break;\n",
       "                    }\n",
       "                }\n",
       "            }, 500);\n",
       "            "
      ],
      "text/plain": [
       "<IPython.core.display.Javascript object>"
      ]
     },
     "metadata": {},
     "output_type": "display_data"
    }
   ],
   "source": [
    "exchange.create_market_buy_order('BTC/USD', amount=1)\n",
    "\n"
   ]
  },
  {
   "cell_type": "code",
   "execution_count": 12,
   "id": "60797e8f",
   "metadata": {},
   "outputs": [
    {
     "data": {
      "text/html": [
       "<div>\n",
       "<style scoped>\n",
       "    .dataframe tbody tr th:only-of-type {\n",
       "        vertical-align: middle;\n",
       "    }\n",
       "\n",
       "    .dataframe tbody tr th {\n",
       "        vertical-align: top;\n",
       "    }\n",
       "\n",
       "    .dataframe thead th {\n",
       "        text-align: right;\n",
       "    }\n",
       "</style>\n",
       "<table border=\"1\" class=\"dataframe\">\n",
       "  <thead>\n",
       "    <tr style=\"text-align: right;\">\n",
       "      <th></th>\n",
       "      <th>id</th>\n",
       "      <th>currency</th>\n",
       "      <th>balance</th>\n",
       "      <th>hold</th>\n",
       "      <th>available</th>\n",
       "      <th>profile_id</th>\n",
       "      <th>trading_enabled</th>\n",
       "    </tr>\n",
       "  </thead>\n",
       "  <tbody>\n",
       "    <tr>\n",
       "      <th>0</th>\n",
       "      <td>f0392e90-ea2c-415a-892b-c078313ec111</td>\n",
       "      <td>BAT</td>\n",
       "      <td>0.0000000000000000</td>\n",
       "      <td>0.0000000000000000</td>\n",
       "      <td>0</td>\n",
       "      <td>02ee6478-9c16-4ce4-8890-df26d1470148</td>\n",
       "      <td>True</td>\n",
       "    </tr>\n",
       "    <tr>\n",
       "      <th>1</th>\n",
       "      <td>4e362e42-9695-4f86-8df9-c6a257e86e58</td>\n",
       "      <td>BTC</td>\n",
       "      <td>1.0000000000000000</td>\n",
       "      <td>0.0000000000000000</td>\n",
       "      <td>1</td>\n",
       "      <td>02ee6478-9c16-4ce4-8890-df26d1470148</td>\n",
       "      <td>True</td>\n",
       "    </tr>\n",
       "    <tr>\n",
       "      <th>2</th>\n",
       "      <td>52aef18b-dec4-45b0-9afa-2d30f6337304</td>\n",
       "      <td>ETH</td>\n",
       "      <td>0.0000000000000000</td>\n",
       "      <td>0.0000000000000000</td>\n",
       "      <td>0</td>\n",
       "      <td>02ee6478-9c16-4ce4-8890-df26d1470148</td>\n",
       "      <td>True</td>\n",
       "    </tr>\n",
       "    <tr>\n",
       "      <th>3</th>\n",
       "      <td>b1f4d8ea-1f0a-4fa0-b438-11706830d539</td>\n",
       "      <td>EUR</td>\n",
       "      <td>0.0000000000000000</td>\n",
       "      <td>0.0000000000000000</td>\n",
       "      <td>0</td>\n",
       "      <td>02ee6478-9c16-4ce4-8890-df26d1470148</td>\n",
       "      <td>True</td>\n",
       "    </tr>\n",
       "    <tr>\n",
       "      <th>4</th>\n",
       "      <td>fe1d87e6-2c51-4f40-b1e0-e2c01d30d3dd</td>\n",
       "      <td>GBP</td>\n",
       "      <td>0.0000000000000000</td>\n",
       "      <td>0.0000000000000000</td>\n",
       "      <td>0</td>\n",
       "      <td>02ee6478-9c16-4ce4-8890-df26d1470148</td>\n",
       "      <td>True</td>\n",
       "    </tr>\n",
       "    <tr>\n",
       "      <th>5</th>\n",
       "      <td>14912ca4-a37c-49eb-b2e9-63e308430e8a</td>\n",
       "      <td>LINK</td>\n",
       "      <td>0.0000000000000000</td>\n",
       "      <td>0.0000000000000000</td>\n",
       "      <td>0</td>\n",
       "      <td>02ee6478-9c16-4ce4-8890-df26d1470148</td>\n",
       "      <td>True</td>\n",
       "    </tr>\n",
       "    <tr>\n",
       "      <th>6</th>\n",
       "      <td>3060a0a4-5d40-4716-b6ec-1341ffb85b25</td>\n",
       "      <td>USD</td>\n",
       "      <td>434931.7016442146895000</td>\n",
       "      <td>0.0000000000000000</td>\n",
       "      <td>434931.7016442146895</td>\n",
       "      <td>02ee6478-9c16-4ce4-8890-df26d1470148</td>\n",
       "      <td>True</td>\n",
       "    </tr>\n",
       "    <tr>\n",
       "      <th>7</th>\n",
       "      <td>5ebc8de1-1a58-4445-a856-d814de61cdd7</td>\n",
       "      <td>USDC</td>\n",
       "      <td>0.0000000000000000</td>\n",
       "      <td>0.0000000000000000</td>\n",
       "      <td>0</td>\n",
       "      <td>02ee6478-9c16-4ce4-8890-df26d1470148</td>\n",
       "      <td>True</td>\n",
       "    </tr>\n",
       "  </tbody>\n",
       "</table>\n",
       "</div>"
      ],
      "text/plain": [
       "                                     id currency                  balance  \\\n",
       "0  f0392e90-ea2c-415a-892b-c078313ec111      BAT       0.0000000000000000   \n",
       "1  4e362e42-9695-4f86-8df9-c6a257e86e58      BTC       1.0000000000000000   \n",
       "2  52aef18b-dec4-45b0-9afa-2d30f6337304      ETH       0.0000000000000000   \n",
       "3  b1f4d8ea-1f0a-4fa0-b438-11706830d539      EUR       0.0000000000000000   \n",
       "4  fe1d87e6-2c51-4f40-b1e0-e2c01d30d3dd      GBP       0.0000000000000000   \n",
       "5  14912ca4-a37c-49eb-b2e9-63e308430e8a     LINK       0.0000000000000000   \n",
       "6  3060a0a4-5d40-4716-b6ec-1341ffb85b25      USD  434931.7016442146895000   \n",
       "7  5ebc8de1-1a58-4445-a856-d814de61cdd7     USDC       0.0000000000000000   \n",
       "\n",
       "                 hold             available  \\\n",
       "0  0.0000000000000000                     0   \n",
       "1  0.0000000000000000                     1   \n",
       "2  0.0000000000000000                     0   \n",
       "3  0.0000000000000000                     0   \n",
       "4  0.0000000000000000                     0   \n",
       "5  0.0000000000000000                     0   \n",
       "6  0.0000000000000000  434931.7016442146895   \n",
       "7  0.0000000000000000                     0   \n",
       "\n",
       "                             profile_id  trading_enabled  \n",
       "0  02ee6478-9c16-4ce4-8890-df26d1470148             True  \n",
       "1  02ee6478-9c16-4ce4-8890-df26d1470148             True  \n",
       "2  02ee6478-9c16-4ce4-8890-df26d1470148             True  \n",
       "3  02ee6478-9c16-4ce4-8890-df26d1470148             True  \n",
       "4  02ee6478-9c16-4ce4-8890-df26d1470148             True  \n",
       "5  02ee6478-9c16-4ce4-8890-df26d1470148             True  \n",
       "6  02ee6478-9c16-4ce4-8890-df26d1470148             True  \n",
       "7  02ee6478-9c16-4ce4-8890-df26d1470148             True  "
      ]
     },
     "execution_count": 12,
     "metadata": {},
     "output_type": "execute_result"
    },
    {
     "data": {
      "application/javascript": [
       "\n",
       "            setTimeout(function() {\n",
       "                var nbb_cell_id = 12;\n",
       "                var nbb_unformatted_code = \"# Check balance\\naccount_balance = exchange.fetch_balance()\\npd.DataFrame.from_records(account_balance[\\\"info\\\"])\";\n",
       "                var nbb_formatted_code = \"# Check balance\\naccount_balance = exchange.fetch_balance()\\npd.DataFrame.from_records(account_balance[\\\"info\\\"])\";\n",
       "                var nbb_cells = Jupyter.notebook.get_cells();\n",
       "                for (var i = 0; i < nbb_cells.length; ++i) {\n",
       "                    if (nbb_cells[i].input_prompt_number == nbb_cell_id) {\n",
       "                        if (nbb_cells[i].get_text() == nbb_unformatted_code) {\n",
       "                             nbb_cells[i].set_text(nbb_formatted_code);\n",
       "                        }\n",
       "                        break;\n",
       "                    }\n",
       "                }\n",
       "            }, 500);\n",
       "            "
      ],
      "text/plain": [
       "<IPython.core.display.Javascript object>"
      ]
     },
     "metadata": {},
     "output_type": "display_data"
    }
   ],
   "source": [
    "# Check balance\n",
    "account_balance = exchange.fetch_balance()\n",
    "pd.DataFrame.from_records(account_balance[\"info\"])"
   ]
  },
  {
   "cell_type": "code",
   "execution_count": null,
   "id": "419abb6c",
   "metadata": {},
   "outputs": [],
   "source": []
  },
  {
   "cell_type": "markdown",
   "id": "60bef419",
   "metadata": {},
   "source": [
    "## Sell! "
   ]
  },
  {
   "cell_type": "code",
   "execution_count": 13,
   "id": "eb301f88",
   "metadata": {},
   "outputs": [
    {
     "data": {
      "text/plain": [
       "{'id': '0ff008ab-08b9-4d29-9694-c699155e46f5',\n",
       " 'clientOrderId': None,\n",
       " 'info': {'id': '0ff008ab-08b9-4d29-9694-c699155e46f5',\n",
       "  'size': '1',\n",
       "  'product_id': 'BTC-USD',\n",
       "  'side': 'sell',\n",
       "  'stp': 'dc',\n",
       "  'type': 'market',\n",
       "  'post_only': False,\n",
       "  'created_at': '2021-10-22T22:45:23.863349Z',\n",
       "  'fill_fees': '0',\n",
       "  'filled_size': '0',\n",
       "  'executed_value': '0',\n",
       "  'status': 'pending',\n",
       "  'settled': False},\n",
       " 'timestamp': 1634942723863,\n",
       " 'datetime': '2021-10-22T22:45:23.863Z',\n",
       " 'lastTradeTimestamp': None,\n",
       " 'status': 'open',\n",
       " 'symbol': 'BTC/USD',\n",
       " 'type': 'market',\n",
       " 'timeInForce': None,\n",
       " 'postOnly': False,\n",
       " 'side': 'sell',\n",
       " 'price': None,\n",
       " 'stopPrice': None,\n",
       " 'cost': 0.0,\n",
       " 'amount': 1.0,\n",
       " 'filled': 0.0,\n",
       " 'remaining': 1.0,\n",
       " 'fee': {'cost': 0.0, 'currency': 'USD', 'rate': None},\n",
       " 'average': None,\n",
       " 'trades': None,\n",
       " 'fees': [{'cost': 0.0, 'currency': 'USD', 'rate': None}]}"
      ]
     },
     "execution_count": 13,
     "metadata": {},
     "output_type": "execute_result"
    },
    {
     "data": {
      "application/javascript": [
       "\n",
       "            setTimeout(function() {\n",
       "                var nbb_cell_id = 13;\n",
       "                var nbb_unformatted_code = \"exchange.create_market_sell_order('BTC/USD', amount=1)\";\n",
       "                var nbb_formatted_code = \"exchange.create_market_sell_order(\\\"BTC/USD\\\", amount=1)\";\n",
       "                var nbb_cells = Jupyter.notebook.get_cells();\n",
       "                for (var i = 0; i < nbb_cells.length; ++i) {\n",
       "                    if (nbb_cells[i].input_prompt_number == nbb_cell_id) {\n",
       "                        if (nbb_cells[i].get_text() == nbb_unformatted_code) {\n",
       "                             nbb_cells[i].set_text(nbb_formatted_code);\n",
       "                        }\n",
       "                        break;\n",
       "                    }\n",
       "                }\n",
       "            }, 500);\n",
       "            "
      ],
      "text/plain": [
       "<IPython.core.display.Javascript object>"
      ]
     },
     "metadata": {},
     "output_type": "display_data"
    }
   ],
   "source": [
    "exchange.create_market_sell_order(\"BTC/USD\", amount=1)"
   ]
  },
  {
   "cell_type": "code",
   "execution_count": 14,
   "id": "f9737412",
   "metadata": {},
   "outputs": [
    {
     "data": {
      "text/html": [
       "<div>\n",
       "<style scoped>\n",
       "    .dataframe tbody tr th:only-of-type {\n",
       "        vertical-align: middle;\n",
       "    }\n",
       "\n",
       "    .dataframe tbody tr th {\n",
       "        vertical-align: top;\n",
       "    }\n",
       "\n",
       "    .dataframe thead th {\n",
       "        text-align: right;\n",
       "    }\n",
       "</style>\n",
       "<table border=\"1\" class=\"dataframe\">\n",
       "  <thead>\n",
       "    <tr style=\"text-align: right;\">\n",
       "      <th></th>\n",
       "      <th>id</th>\n",
       "      <th>currency</th>\n",
       "      <th>balance</th>\n",
       "      <th>hold</th>\n",
       "      <th>available</th>\n",
       "      <th>profile_id</th>\n",
       "      <th>trading_enabled</th>\n",
       "    </tr>\n",
       "  </thead>\n",
       "  <tbody>\n",
       "    <tr>\n",
       "      <th>0</th>\n",
       "      <td>f0392e90-ea2c-415a-892b-c078313ec111</td>\n",
       "      <td>BAT</td>\n",
       "      <td>0.0000000000000000</td>\n",
       "      <td>0.0000000000000000</td>\n",
       "      <td>0</td>\n",
       "      <td>02ee6478-9c16-4ce4-8890-df26d1470148</td>\n",
       "      <td>True</td>\n",
       "    </tr>\n",
       "    <tr>\n",
       "      <th>1</th>\n",
       "      <td>4e362e42-9695-4f86-8df9-c6a257e86e58</td>\n",
       "      <td>BTC</td>\n",
       "      <td>0.0000000000000000</td>\n",
       "      <td>0.0000000000000000</td>\n",
       "      <td>0</td>\n",
       "      <td>02ee6478-9c16-4ce4-8890-df26d1470148</td>\n",
       "      <td>True</td>\n",
       "    </tr>\n",
       "    <tr>\n",
       "      <th>2</th>\n",
       "      <td>52aef18b-dec4-45b0-9afa-2d30f6337304</td>\n",
       "      <td>ETH</td>\n",
       "      <td>0.0000000000000000</td>\n",
       "      <td>0.0000000000000000</td>\n",
       "      <td>0</td>\n",
       "      <td>02ee6478-9c16-4ce4-8890-df26d1470148</td>\n",
       "      <td>True</td>\n",
       "    </tr>\n",
       "    <tr>\n",
       "      <th>3</th>\n",
       "      <td>b1f4d8ea-1f0a-4fa0-b438-11706830d539</td>\n",
       "      <td>EUR</td>\n",
       "      <td>0.0000000000000000</td>\n",
       "      <td>0.0000000000000000</td>\n",
       "      <td>0</td>\n",
       "      <td>02ee6478-9c16-4ce4-8890-df26d1470148</td>\n",
       "      <td>True</td>\n",
       "    </tr>\n",
       "    <tr>\n",
       "      <th>4</th>\n",
       "      <td>fe1d87e6-2c51-4f40-b1e0-e2c01d30d3dd</td>\n",
       "      <td>GBP</td>\n",
       "      <td>0.0000000000000000</td>\n",
       "      <td>0.0000000000000000</td>\n",
       "      <td>0</td>\n",
       "      <td>02ee6478-9c16-4ce4-8890-df26d1470148</td>\n",
       "      <td>True</td>\n",
       "    </tr>\n",
       "    <tr>\n",
       "      <th>5</th>\n",
       "      <td>14912ca4-a37c-49eb-b2e9-63e308430e8a</td>\n",
       "      <td>LINK</td>\n",
       "      <td>0.0000000000000000</td>\n",
       "      <td>0.0000000000000000</td>\n",
       "      <td>0</td>\n",
       "      <td>02ee6478-9c16-4ce4-8890-df26d1470148</td>\n",
       "      <td>True</td>\n",
       "    </tr>\n",
       "    <tr>\n",
       "      <th>6</th>\n",
       "      <td>3060a0a4-5d40-4716-b6ec-1341ffb85b25</td>\n",
       "      <td>USD</td>\n",
       "      <td>494700.4435452859890000</td>\n",
       "      <td>0.0000000000000000</td>\n",
       "      <td>494700.443545285989</td>\n",
       "      <td>02ee6478-9c16-4ce4-8890-df26d1470148</td>\n",
       "      <td>True</td>\n",
       "    </tr>\n",
       "    <tr>\n",
       "      <th>7</th>\n",
       "      <td>5ebc8de1-1a58-4445-a856-d814de61cdd7</td>\n",
       "      <td>USDC</td>\n",
       "      <td>0.0000000000000000</td>\n",
       "      <td>0.0000000000000000</td>\n",
       "      <td>0</td>\n",
       "      <td>02ee6478-9c16-4ce4-8890-df26d1470148</td>\n",
       "      <td>True</td>\n",
       "    </tr>\n",
       "  </tbody>\n",
       "</table>\n",
       "</div>"
      ],
      "text/plain": [
       "                                     id currency                  balance  \\\n",
       "0  f0392e90-ea2c-415a-892b-c078313ec111      BAT       0.0000000000000000   \n",
       "1  4e362e42-9695-4f86-8df9-c6a257e86e58      BTC       0.0000000000000000   \n",
       "2  52aef18b-dec4-45b0-9afa-2d30f6337304      ETH       0.0000000000000000   \n",
       "3  b1f4d8ea-1f0a-4fa0-b438-11706830d539      EUR       0.0000000000000000   \n",
       "4  fe1d87e6-2c51-4f40-b1e0-e2c01d30d3dd      GBP       0.0000000000000000   \n",
       "5  14912ca4-a37c-49eb-b2e9-63e308430e8a     LINK       0.0000000000000000   \n",
       "6  3060a0a4-5d40-4716-b6ec-1341ffb85b25      USD  494700.4435452859890000   \n",
       "7  5ebc8de1-1a58-4445-a856-d814de61cdd7     USDC       0.0000000000000000   \n",
       "\n",
       "                 hold            available  \\\n",
       "0  0.0000000000000000                    0   \n",
       "1  0.0000000000000000                    0   \n",
       "2  0.0000000000000000                    0   \n",
       "3  0.0000000000000000                    0   \n",
       "4  0.0000000000000000                    0   \n",
       "5  0.0000000000000000                    0   \n",
       "6  0.0000000000000000  494700.443545285989   \n",
       "7  0.0000000000000000                    0   \n",
       "\n",
       "                             profile_id  trading_enabled  \n",
       "0  02ee6478-9c16-4ce4-8890-df26d1470148             True  \n",
       "1  02ee6478-9c16-4ce4-8890-df26d1470148             True  \n",
       "2  02ee6478-9c16-4ce4-8890-df26d1470148             True  \n",
       "3  02ee6478-9c16-4ce4-8890-df26d1470148             True  \n",
       "4  02ee6478-9c16-4ce4-8890-df26d1470148             True  \n",
       "5  02ee6478-9c16-4ce4-8890-df26d1470148             True  \n",
       "6  02ee6478-9c16-4ce4-8890-df26d1470148             True  \n",
       "7  02ee6478-9c16-4ce4-8890-df26d1470148             True  "
      ]
     },
     "execution_count": 14,
     "metadata": {},
     "output_type": "execute_result"
    },
    {
     "data": {
      "application/javascript": [
       "\n",
       "            setTimeout(function() {\n",
       "                var nbb_cell_id = 14;\n",
       "                var nbb_unformatted_code = \"# Check balance\\naccount_balance = exchange.fetch_balance()\\npd.DataFrame.from_records(account_balance[\\\"info\\\"])\";\n",
       "                var nbb_formatted_code = \"# Check balance\\naccount_balance = exchange.fetch_balance()\\npd.DataFrame.from_records(account_balance[\\\"info\\\"])\";\n",
       "                var nbb_cells = Jupyter.notebook.get_cells();\n",
       "                for (var i = 0; i < nbb_cells.length; ++i) {\n",
       "                    if (nbb_cells[i].input_prompt_number == nbb_cell_id) {\n",
       "                        if (nbb_cells[i].get_text() == nbb_unformatted_code) {\n",
       "                             nbb_cells[i].set_text(nbb_formatted_code);\n",
       "                        }\n",
       "                        break;\n",
       "                    }\n",
       "                }\n",
       "            }, 500);\n",
       "            "
      ],
      "text/plain": [
       "<IPython.core.display.Javascript object>"
      ]
     },
     "metadata": {},
     "output_type": "display_data"
    }
   ],
   "source": [
    "# Check balance\n",
    "account_balance = exchange.fetch_balance()\n",
    "pd.DataFrame.from_records(account_balance[\"info\"])"
   ]
  },
  {
   "cell_type": "code",
   "execution_count": null,
   "id": "18126dd0",
   "metadata": {},
   "outputs": [],
   "source": []
  },
  {
   "cell_type": "code",
   "execution_count": null,
   "id": "f2cc9341",
   "metadata": {},
   "outputs": [],
   "source": []
  }
 ],
 "metadata": {
  "kernelspec": {
   "display_name": "Python 3 (ipykernel)",
   "language": "python",
   "name": "python3"
  },
  "language_info": {
   "codemirror_mode": {
    "name": "ipython",
    "version": 3
   },
   "file_extension": ".py",
   "mimetype": "text/x-python",
   "name": "python",
   "nbconvert_exporter": "python",
   "pygments_lexer": "ipython3",
   "version": "3.9.6"
  }
 },
 "nbformat": 4,
 "nbformat_minor": 5
}
