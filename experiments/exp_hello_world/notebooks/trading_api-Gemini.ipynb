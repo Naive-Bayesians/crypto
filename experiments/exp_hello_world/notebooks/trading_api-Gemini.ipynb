{
 "cells": [
  {
   "cell_type": "markdown",
   "id": "d0985077",
   "metadata": {},
   "source": [
    "# Getting Started with the Gemini Sandbox API\n",
    "## ... with `ccxt`\n",
    "\n",
    "\n",
    "### Before you'll be able to run this notebook\n",
    "\n",
    "### Create a Gemini Sandbox Account \n",
    "Your coinbase account can be used in a sandbox mode\n",
    "\n",
    "* Sign up to a `sandbox` Gemini account: https://exchange.sandbox.gemini.com/register\n",
    "* Login to https://exchange.sandbox.gemini.com/\n",
    "* Go to the API section and generate an API key \n",
    "    * Go to Account -> Settings -> API  \n",
    "    * IMPORTANT! Create a `Primary Key` and NOT `Master Key`. \n",
    "* Make sure to save the API Secret, and API Key in a safe place\n",
    "* Save your API keys in you `bash_profile`\n",
    "\n",
    "\n",
    "_Note: The Gemini sandbox account comes with enough fake USD, BTC, and ETH to get you started._"
   ]
  },
  {
   "cell_type": "markdown",
   "id": "fc231569",
   "metadata": {},
   "source": [
    "#### NB Setup commands"
   ]
  },
  {
   "cell_type": "code",
   "execution_count": 1,
   "id": "aa7d3646",
   "metadata": {},
   "outputs": [
    {
     "data": {
      "text/html": [
       "<style>.container { width:80% !important; }</style>"
      ],
      "text/plain": [
       "<IPython.core.display.HTML object>"
      ]
     },
     "metadata": {},
     "output_type": "display_data"
    },
    {
     "data": {
      "application/javascript": [
       "\n",
       "            setTimeout(function() {\n",
       "                var nbb_cell_id = 1;\n",
       "                var nbb_unformatted_code = \"%load_ext nb_black\\n%load_ext autoreload\\n%autoreload 2\\n\\nimport os\\nfrom pathlib import Path\\nfrom IPython.display import HTML\\n\\n\\ndef set_paths() -> None:\\n\\n    if \\\"cwd\\\" not in globals():\\n        global cwd\\n        cwd = Path(os.getcwd()).parents[1]\\n        os.chdir(cwd)\\n\\n\\nset_paths()\\ndisplay(HTML(\\\"<style>.container { width:80% !important; }</style>\\\"))\";\n",
       "                var nbb_formatted_code = \"%load_ext nb_black\\n%load_ext autoreload\\n%autoreload 2\\n\\nimport os\\nfrom pathlib import Path\\nfrom IPython.display import HTML\\n\\n\\ndef set_paths() -> None:\\n\\n    if \\\"cwd\\\" not in globals():\\n        global cwd\\n        cwd = Path(os.getcwd()).parents[1]\\n        os.chdir(cwd)\\n\\n\\nset_paths()\\ndisplay(HTML(\\\"<style>.container { width:80% !important; }</style>\\\"))\";\n",
       "                var nbb_cells = Jupyter.notebook.get_cells();\n",
       "                for (var i = 0; i < nbb_cells.length; ++i) {\n",
       "                    if (nbb_cells[i].input_prompt_number == nbb_cell_id) {\n",
       "                        if (nbb_cells[i].get_text() == nbb_unformatted_code) {\n",
       "                             nbb_cells[i].set_text(nbb_formatted_code);\n",
       "                        }\n",
       "                        break;\n",
       "                    }\n",
       "                }\n",
       "            }, 500);\n",
       "            "
      ],
      "text/plain": [
       "<IPython.core.display.Javascript object>"
      ]
     },
     "metadata": {},
     "output_type": "display_data"
    }
   ],
   "source": [
    "%load_ext nb_black\n",
    "%load_ext autoreload\n",
    "%autoreload 2\n",
    "\n",
    "import os\n",
    "from pathlib import Path\n",
    "from IPython.display import HTML\n",
    "\n",
    "\n",
    "def set_paths() -> None:\n",
    "\n",
    "    if \"cwd\" not in globals():\n",
    "        global cwd\n",
    "        cwd = Path(os.getcwd()).parents[1]\n",
    "        os.chdir(cwd)\n",
    "\n",
    "\n",
    "set_paths()\n",
    "display(HTML(\"<style>.container { width:80% !important; }</style>\"))"
   ]
  },
  {
   "cell_type": "code",
   "execution_count": 2,
   "id": "95be1fd1",
   "metadata": {},
   "outputs": [
    {
     "data": {
      "application/javascript": [
       "\n",
       "            setTimeout(function() {\n",
       "                var nbb_cell_id = 2;\n",
       "                var nbb_unformatted_code = \"# All modules within the src/crypto can be called like this:\\nfrom crypto.utils import config_utils\\nimport ccxt\\n\\nimport pandas as pd\";\n",
       "                var nbb_formatted_code = \"# All modules within the src/crypto can be called like this:\\nfrom crypto.utils import config_utils\\nimport ccxt\\n\\nimport pandas as pd\";\n",
       "                var nbb_cells = Jupyter.notebook.get_cells();\n",
       "                for (var i = 0; i < nbb_cells.length; ++i) {\n",
       "                    if (nbb_cells[i].input_prompt_number == nbb_cell_id) {\n",
       "                        if (nbb_cells[i].get_text() == nbb_unformatted_code) {\n",
       "                             nbb_cells[i].set_text(nbb_formatted_code);\n",
       "                        }\n",
       "                        break;\n",
       "                    }\n",
       "                }\n",
       "            }, 500);\n",
       "            "
      ],
      "text/plain": [
       "<IPython.core.display.Javascript object>"
      ]
     },
     "metadata": {},
     "output_type": "display_data"
    }
   ],
   "source": [
    "# All modules within the src/crypto can be called like this:\n",
    "from crypto.utils import config_utils\n",
    "import ccxt\n",
    "\n",
    "import pandas as pd"
   ]
  },
  {
   "cell_type": "code",
   "execution_count": null,
   "id": "395ea8f4",
   "metadata": {},
   "outputs": [],
   "source": []
  },
  {
   "cell_type": "code",
   "execution_count": null,
   "id": "939f70b9",
   "metadata": {},
   "outputs": [],
   "source": [
    "# Create an instance"
   ]
  },
  {
   "cell_type": "code",
   "execution_count": 3,
   "id": "8814147a",
   "metadata": {},
   "outputs": [
    {
     "data": {
      "application/javascript": [
       "\n",
       "            setTimeout(function() {\n",
       "                var nbb_cell_id = 3;\n",
       "                var nbb_unformatted_code = \"exchange = ccxt.gemini(\\n    {\\n        \\\"apiKey\\\": os.environ.get(\\\"GEMINI_SNDBX_API_KEY\\\"),\\n        \\\"secret\\\": os.environ.get(\\\"GEMINI_SNDBX_API_SECRET\\\"),\\n    }\\n)\";\n",
       "                var nbb_formatted_code = \"exchange = ccxt.gemini(\\n    {\\n        \\\"apiKey\\\": os.environ.get(\\\"GEMINI_SNDBX_API_KEY\\\"),\\n        \\\"secret\\\": os.environ.get(\\\"GEMINI_SNDBX_API_SECRET\\\"),\\n    }\\n)\";\n",
       "                var nbb_cells = Jupyter.notebook.get_cells();\n",
       "                for (var i = 0; i < nbb_cells.length; ++i) {\n",
       "                    if (nbb_cells[i].input_prompt_number == nbb_cell_id) {\n",
       "                        if (nbb_cells[i].get_text() == nbb_unformatted_code) {\n",
       "                             nbb_cells[i].set_text(nbb_formatted_code);\n",
       "                        }\n",
       "                        break;\n",
       "                    }\n",
       "                }\n",
       "            }, 500);\n",
       "            "
      ],
      "text/plain": [
       "<IPython.core.display.Javascript object>"
      ]
     },
     "metadata": {},
     "output_type": "display_data"
    }
   ],
   "source": [
    "exchange = ccxt.gemini(\n",
    "    {\n",
    "        \"apiKey\": os.environ.get(\"GEMINI_SNDBX_API_KEY\"),\n",
    "        \"secret\": os.environ.get(\"GEMINI_SNDBX_API_SECRET\"),\n",
    "    }\n",
    ")"
   ]
  },
  {
   "cell_type": "code",
   "execution_count": 4,
   "id": "ef2abc39",
   "metadata": {},
   "outputs": [
    {
     "data": {
      "application/javascript": [
       "\n",
       "            setTimeout(function() {\n",
       "                var nbb_cell_id = 4;\n",
       "                var nbb_unformatted_code = \"# This has to be set before any\\nexchange.set_sandbox_mode(True)\";\n",
       "                var nbb_formatted_code = \"# This has to be set before any\\nexchange.set_sandbox_mode(True)\";\n",
       "                var nbb_cells = Jupyter.notebook.get_cells();\n",
       "                for (var i = 0; i < nbb_cells.length; ++i) {\n",
       "                    if (nbb_cells[i].input_prompt_number == nbb_cell_id) {\n",
       "                        if (nbb_cells[i].get_text() == nbb_unformatted_code) {\n",
       "                             nbb_cells[i].set_text(nbb_formatted_code);\n",
       "                        }\n",
       "                        break;\n",
       "                    }\n",
       "                }\n",
       "            }, 500);\n",
       "            "
      ],
      "text/plain": [
       "<IPython.core.display.Javascript object>"
      ]
     },
     "metadata": {},
     "output_type": "display_data"
    }
   ],
   "source": [
    "# This has to be set before any\n",
    "exchange.set_sandbox_mode(True)"
   ]
  },
  {
   "cell_type": "code",
   "execution_count": 26,
   "id": "a45c655d",
   "metadata": {
    "scrolled": true
   },
   "outputs": [
    {
     "data": {
      "text/plain": [
       "type                      object\n",
       "currency                  object\n",
       "amount                    object\n",
       "available                 object\n",
       "availableForWithdrawal    object\n",
       "dtype: object"
      ]
     },
     "execution_count": 26,
     "metadata": {},
     "output_type": "execute_result"
    },
    {
     "data": {
      "application/javascript": [
       "\n",
       "            setTimeout(function() {\n",
       "                var nbb_cell_id = 26;\n",
       "                var nbb_unformatted_code = \"# If your API key, secret or passwords is not setup correctly,\\n# ... you'll get an authentication error\\naccount_balance = exchange.fetch_balance()\\npd.DataFrame.from_records(account_balance[\\\"info\\\"]).dtypes\";\n",
       "                var nbb_formatted_code = \"# If your API key, secret or passwords is not setup correctly,\\n# ... you'll get an authentication error\\naccount_balance = exchange.fetch_balance()\\npd.DataFrame.from_records(account_balance[\\\"info\\\"]).dtypes\";\n",
       "                var nbb_cells = Jupyter.notebook.get_cells();\n",
       "                for (var i = 0; i < nbb_cells.length; ++i) {\n",
       "                    if (nbb_cells[i].input_prompt_number == nbb_cell_id) {\n",
       "                        if (nbb_cells[i].get_text() == nbb_unformatted_code) {\n",
       "                             nbb_cells[i].set_text(nbb_formatted_code);\n",
       "                        }\n",
       "                        break;\n",
       "                    }\n",
       "                }\n",
       "            }, 500);\n",
       "            "
      ],
      "text/plain": [
       "<IPython.core.display.Javascript object>"
      ]
     },
     "metadata": {},
     "output_type": "display_data"
    }
   ],
   "source": [
    "# If your API key, secret or passwords is not setup correctly,\n",
    "# ... you'll get an authentication error\n",
    "account_balance = exchange.fetch_balance()\n",
    "pd.DataFrame.from_records(account_balance[\"info\"]).dtypes"
   ]
  },
  {
   "cell_type": "code",
   "execution_count": null,
   "id": "d25b6ed6",
   "metadata": {},
   "outputs": [],
   "source": []
  },
  {
   "cell_type": "code",
   "execution_count": null,
   "id": "1a383217",
   "metadata": {},
   "outputs": [],
   "source": []
  },
  {
   "cell_type": "markdown",
   "id": "27a16a1c",
   "metadata": {},
   "source": []
  },
  {
   "cell_type": "markdown",
   "id": "9d440ee0",
   "metadata": {},
   "source": [
    "# Getting historical data\n",
    "\n",
    "OHLCV is an aggregated form of market data standing for Open, High, Low, Close and Volume. OHLCV data includes 5 data points: the Open and Close represent the first and the last price level during a specified interval. High and Low represent the highest and lowest reached price during that interval. Volume is the total amount traded during that period. This data is most frequently represented in a candlestick chart, which allows traders to perform technical analysis on intraday values. We provide OHLCV data in granularities ranging from 1 second to 1 day. \n",
    "\n",
    "\n",
    "\n",
    "* Timestamp\tEpoch timestamp in milliseconds. You can learn more about timestamps, including how to convert them to human readable form, here. \n",
    "* Open\tOpening price of the time interval in quote currency (For BTC/USD, the price would be USD).\n",
    "* High\tHighest price reached during time interval, in quote currency.\n",
    "*Low\tLowest price reached during time interval, in quote currency.\n",
    "* Close\tClosing price of the time interval, in the quote currency. \n",
    "* Volume\tQuantity of asset bought or sold, displayed in base currency."
   ]
  },
  {
   "cell_type": "code",
   "execution_count": null,
   "id": "5fdac110",
   "metadata": {},
   "outputs": [],
   "source": [
    "# Available timeframes\n",
    "exchange.timeframes"
   ]
  },
  {
   "cell_type": "code",
   "execution_count": 6,
   "id": "0a0c7326",
   "metadata": {},
   "outputs": [
    {
     "data": {
      "text/plain": [
       "1634860800000"
      ]
     },
     "execution_count": 6,
     "metadata": {},
     "output_type": "execute_result"
    },
    {
     "data": {
      "application/javascript": [
       "\n",
       "            setTimeout(function() {\n",
       "                var nbb_cell_id = 6;\n",
       "                var nbb_unformatted_code = \"from_datetime = \\\"2021-10-22 00:00:00\\\"\\nfrom_timestamp = exchange.parse8601(from_datetime)\\nfrom_timestamp\";\n",
       "                var nbb_formatted_code = \"from_datetime = \\\"2021-10-22 00:00:00\\\"\\nfrom_timestamp = exchange.parse8601(from_datetime)\\nfrom_timestamp\";\n",
       "                var nbb_cells = Jupyter.notebook.get_cells();\n",
       "                for (var i = 0; i < nbb_cells.length; ++i) {\n",
       "                    if (nbb_cells[i].input_prompt_number == nbb_cell_id) {\n",
       "                        if (nbb_cells[i].get_text() == nbb_unformatted_code) {\n",
       "                             nbb_cells[i].set_text(nbb_formatted_code);\n",
       "                        }\n",
       "                        break;\n",
       "                    }\n",
       "                }\n",
       "            }, 500);\n",
       "            "
      ],
      "text/plain": [
       "<IPython.core.display.Javascript object>"
      ]
     },
     "metadata": {},
     "output_type": "display_data"
    }
   ],
   "source": [
    "from_datetime = \"2021-10-22 00:00:00\"\n",
    "from_timestamp = exchange.parse8601(from_datetime)\n",
    "from_timestamp"
   ]
  },
  {
   "cell_type": "code",
   "execution_count": null,
   "id": "cbea5d73",
   "metadata": {},
   "outputs": [],
   "source": []
  },
  {
   "cell_type": "code",
   "execution_count": 7,
   "id": "d3b22d65",
   "metadata": {},
   "outputs": [
    {
     "data": {
      "application/javascript": [
       "\n",
       "            setTimeout(function() {\n",
       "                var nbb_cell_id = 7;\n",
       "                var nbb_unformatted_code = \"ohlcvs = exchange.fetch_ohlcv(\\n    symbol=\\\"BTC/USD\\\", timeframe=\\\"5m\\\", since=from_timestamp, limit=None\\n)\";\n",
       "                var nbb_formatted_code = \"ohlcvs = exchange.fetch_ohlcv(\\n    symbol=\\\"BTC/USD\\\", timeframe=\\\"5m\\\", since=from_timestamp, limit=None\\n)\";\n",
       "                var nbb_cells = Jupyter.notebook.get_cells();\n",
       "                for (var i = 0; i < nbb_cells.length; ++i) {\n",
       "                    if (nbb_cells[i].input_prompt_number == nbb_cell_id) {\n",
       "                        if (nbb_cells[i].get_text() == nbb_unformatted_code) {\n",
       "                             nbb_cells[i].set_text(nbb_formatted_code);\n",
       "                        }\n",
       "                        break;\n",
       "                    }\n",
       "                }\n",
       "            }, 500);\n",
       "            "
      ],
      "text/plain": [
       "<IPython.core.display.Javascript object>"
      ]
     },
     "metadata": {},
     "output_type": "display_data"
    }
   ],
   "source": [
    "ohlcvs = exchange.fetch_ohlcv(\n",
    "    symbol=\"BTC/USD\", timeframe=\"5m\", since=from_timestamp, limit=None\n",
    ")"
   ]
  },
  {
   "cell_type": "code",
   "execution_count": null,
   "id": "dbfc3ecb",
   "metadata": {},
   "outputs": [],
   "source": [
    "\n"
   ]
  },
  {
   "cell_type": "code",
   "execution_count": 8,
   "id": "2dd32987",
   "metadata": {},
   "outputs": [
    {
     "data": {
      "application/javascript": [
       "\n",
       "            setTimeout(function() {\n",
       "                var nbb_cell_id = 8;\n",
       "                var nbb_unformatted_code = \"df_historical_data = pd.DataFrame.from_records(\\n    ohlcvs, columns=[\\\"timestamp\\\", \\\"open\\\", \\\"high\\\", \\\"low\\\", \\\"close\\\", \\\"volume\\\"]\\n).assign(datetime=lambda x: pd.to_datetime(x[\\\"timestamp\\\"], unit=\\\"ms\\\"))\";\n",
       "                var nbb_formatted_code = \"df_historical_data = pd.DataFrame.from_records(\\n    ohlcvs, columns=[\\\"timestamp\\\", \\\"open\\\", \\\"high\\\", \\\"low\\\", \\\"close\\\", \\\"volume\\\"]\\n).assign(datetime=lambda x: pd.to_datetime(x[\\\"timestamp\\\"], unit=\\\"ms\\\"))\";\n",
       "                var nbb_cells = Jupyter.notebook.get_cells();\n",
       "                for (var i = 0; i < nbb_cells.length; ++i) {\n",
       "                    if (nbb_cells[i].input_prompt_number == nbb_cell_id) {\n",
       "                        if (nbb_cells[i].get_text() == nbb_unformatted_code) {\n",
       "                             nbb_cells[i].set_text(nbb_formatted_code);\n",
       "                        }\n",
       "                        break;\n",
       "                    }\n",
       "                }\n",
       "            }, 500);\n",
       "            "
      ],
      "text/plain": [
       "<IPython.core.display.Javascript object>"
      ]
     },
     "metadata": {},
     "output_type": "display_data"
    }
   ],
   "source": [
    "df_historical_data = pd.DataFrame.from_records(\n",
    "    ohlcvs, columns=[\"timestamp\", \"open\", \"high\", \"low\", \"close\", \"volume\"]\n",
    ").assign(datetime=lambda x: pd.to_datetime(x[\"timestamp\"], unit=\"ms\"))"
   ]
  },
  {
   "cell_type": "markdown",
   "id": "e820d3d0",
   "metadata": {},
   "source": [
    "# Start trading!"
   ]
  },
  {
   "cell_type": "markdown",
   "id": "a613915e",
   "metadata": {},
   "source": [
    "## Buy"
   ]
  },
  {
   "cell_type": "code",
   "execution_count": 11,
   "id": "a0959af3",
   "metadata": {},
   "outputs": [
    {
     "data": {
      "text/plain": [
       "{'info': {'order_id': '1330836961',\n",
       "  'id': '1330836961',\n",
       "  'symbol': 'btcusd',\n",
       "  'exchange': 'gemini',\n",
       "  'avg_execution_price': '0.00',\n",
       "  'side': 'sell',\n",
       "  'type': 'exchange limit',\n",
       "  'timestamp': '1639841889',\n",
       "  'timestampms': '1639841889023',\n",
       "  'is_live': True,\n",
       "  'is_cancelled': False,\n",
       "  'is_hidden': False,\n",
       "  'was_forced': False,\n",
       "  'executed_amount': '0',\n",
       "  'client_order_id': '1639841888698',\n",
       "  'options': [],\n",
       "  'price': '47071.00',\n",
       "  'original_amount': '900',\n",
       "  'remaining_amount': '900'},\n",
       " 'id': '1330836961'}"
      ]
     },
     "execution_count": 11,
     "metadata": {},
     "output_type": "execute_result"
    },
    {
     "data": {
      "application/javascript": [
       "\n",
       "            setTimeout(function() {\n",
       "                var nbb_cell_id = 11;\n",
       "                var nbb_unformatted_code = \"exchange.create_limit_sell_order(\\n    \\\"BTC/USD\\\",\\n    amount=900,\\n    price=\\\"47071\\\"\\n)\";\n",
       "                var nbb_formatted_code = \"exchange.create_limit_sell_order(\\\"BTC/USD\\\", amount=900, price=\\\"47071\\\")\";\n",
       "                var nbb_cells = Jupyter.notebook.get_cells();\n",
       "                for (var i = 0; i < nbb_cells.length; ++i) {\n",
       "                    if (nbb_cells[i].input_prompt_number == nbb_cell_id) {\n",
       "                        if (nbb_cells[i].get_text() == nbb_unformatted_code) {\n",
       "                             nbb_cells[i].set_text(nbb_formatted_code);\n",
       "                        }\n",
       "                        break;\n",
       "                    }\n",
       "                }\n",
       "            }, 500);\n",
       "            "
      ],
      "text/plain": [
       "<IPython.core.display.Javascript object>"
      ]
     },
     "metadata": {},
     "output_type": "display_data"
    }
   ],
   "source": [
    "exchange.create_limit_sell_order(\"BTC/USD\", amount=900, price=\"47071\")"
   ]
  },
  {
   "cell_type": "code",
   "execution_count": null,
   "id": "d5073d10",
   "metadata": {},
   "outputs": [],
   "source": []
  },
  {
   "cell_type": "code",
   "execution_count": null,
   "id": "60797e8f",
   "metadata": {},
   "outputs": [],
   "source": [
    "# Check balance\n",
    "account_balance = exchange.fetch_balance()\n",
    "pd.DataFrame.from_records(account_balance[\"info\"])"
   ]
  },
  {
   "cell_type": "code",
   "execution_count": null,
   "id": "419abb6c",
   "metadata": {},
   "outputs": [],
   "source": [
    "exchange.create_market_buy_order()"
   ]
  },
  {
   "cell_type": "markdown",
   "id": "60bef419",
   "metadata": {},
   "source": [
    "## Sell! "
   ]
  },
  {
   "cell_type": "code",
   "execution_count": null,
   "id": "eb301f88",
   "metadata": {},
   "outputs": [],
   "source": [
    "exchange.create_market_sell_order(\"BTC/USD\", amount=1)"
   ]
  },
  {
   "cell_type": "code",
   "execution_count": null,
   "id": "f9737412",
   "metadata": {},
   "outputs": [],
   "source": [
    "# Check balance\n",
    "account_balance = exchange.fetch_balance()\n",
    "pd.DataFrame.from_records(account_balance[\"info\"])"
   ]
  },
  {
   "cell_type": "code",
   "execution_count": null,
   "id": "18126dd0",
   "metadata": {},
   "outputs": [],
   "source": [
    "## Appendix: To Find Exchanges with a Sanbox API"
   ]
  },
  {
   "cell_type": "code",
   "execution_count": null,
   "id": "ba81ae07",
   "metadata": {
    "scrolled": false
   },
   "outputs": [],
   "source": [
    "with_sandbox = []\n",
    "without_sanbox = []\n",
    "\n",
    "for exchange_id in ccxt.exchanges:\n",
    "    exchange = getattr(ccxt, exchange_id)()\n",
    "\n",
    "    test_urls = exchange.urls.get(\"test\")\n",
    "    if test_urls:\n",
    "        with_sandbox.append((exchange, test_urls))\n",
    "    else:\n",
    "        without_sanbox.append((exchange, \"No Sandbox\"))"
   ]
  },
  {
   "cell_type": "code",
   "execution_count": null,
   "id": "fe8efa7e",
   "metadata": {},
   "outputs": [],
   "source": [
    "ccxt.ftx"
   ]
  },
  {
   "cell_type": "code",
   "execution_count": null,
   "id": "de8cb195",
   "metadata": {},
   "outputs": [],
   "source": [
    "pd.DataFrame.from_records(with_sandbox)"
   ]
  },
  {
   "cell_type": "code",
   "execution_count": null,
   "id": "44a20cf7",
   "metadata": {},
   "outputs": [],
   "source": []
  }
 ],
 "metadata": {
  "kernelspec": {
   "display_name": "Python 3 (ipykernel)",
   "language": "python",
   "name": "python3"
  },
  "language_info": {
   "codemirror_mode": {
    "name": "ipython",
    "version": 3
   },
   "file_extension": ".py",
   "mimetype": "text/x-python",
   "name": "python",
   "nbconvert_exporter": "python",
   "pygments_lexer": "ipython3",
   "version": "3.9.6"
  }
 },
 "nbformat": 4,
 "nbformat_minor": 5
}
