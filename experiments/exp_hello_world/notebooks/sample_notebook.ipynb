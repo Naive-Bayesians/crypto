{
 "cells": [
  {
   "cell_type": "markdown",
   "id": "fc231569",
   "metadata": {},
   "source": [
    "#### NB Setup commands"
   ]
  },
  {
   "cell_type": "code",
   "execution_count": 5,
   "id": "aa7d3646",
   "metadata": {},
   "outputs": [
    {
     "name": "stdout",
     "output_type": "stream",
     "text": [
      "The nb_black extension is already loaded. To reload it, use:\n",
      "  %reload_ext nb_black\n",
      "The autoreload extension is already loaded. To reload it, use:\n",
      "  %reload_ext autoreload\n"
     ]
    },
    {
     "data": {
      "text/html": [
       "<style>.container { width:80% !important; }</style>"
      ],
      "text/plain": [
       "<IPython.core.display.HTML object>"
      ]
     },
     "metadata": {},
     "output_type": "display_data"
    },
    {
     "data": {
      "application/javascript": [
       "\n",
       "            setTimeout(function() {\n",
       "                var nbb_cell_id = 5;\n",
       "                var nbb_unformatted_code = \"%load_ext nb_black\\n%load_ext autoreload\\n%autoreload 2\\n\\nimport os\\nfrom pathlib import Path\\nfrom IPython.display import HTML\\n\\n\\ndef set_paths() -> None:\\n\\n    if \\\"cwd\\\" not in globals():\\n        global cwd\\n        cwd = Path(os.getcwd()).parents[1]\\n        os.chdir(cwd)\\n\\n\\nset_paths()\\ndisplay(HTML(\\\"<style>.container { width:80% !important; }</style>\\\"))\";\n",
       "                var nbb_formatted_code = \"%load_ext nb_black\\n%load_ext autoreload\\n%autoreload 2\\n\\nimport os\\nfrom pathlib import Path\\nfrom IPython.display import HTML\\n\\n\\ndef set_paths() -> None:\\n\\n    if \\\"cwd\\\" not in globals():\\n        global cwd\\n        cwd = Path(os.getcwd()).parents[1]\\n        os.chdir(cwd)\\n\\n\\nset_paths()\\ndisplay(HTML(\\\"<style>.container { width:80% !important; }</style>\\\"))\";\n",
       "                var nbb_cells = Jupyter.notebook.get_cells();\n",
       "                for (var i = 0; i < nbb_cells.length; ++i) {\n",
       "                    if (nbb_cells[i].input_prompt_number == nbb_cell_id) {\n",
       "                        if (nbb_cells[i].get_text() == nbb_unformatted_code) {\n",
       "                             nbb_cells[i].set_text(nbb_formatted_code);\n",
       "                        }\n",
       "                        break;\n",
       "                    }\n",
       "                }\n",
       "            }, 500);\n",
       "            "
      ],
      "text/plain": [
       "<IPython.core.display.Javascript object>"
      ]
     },
     "metadata": {},
     "output_type": "display_data"
    }
   ],
   "source": [
    "%load_ext nb_black\n",
    "%load_ext autoreload\n",
    "%autoreload 2\n",
    "\n",
    "import os\n",
    "from pathlib import Path\n",
    "from IPython.display import HTML\n",
    "\n",
    "\n",
    "def set_paths() -> None:\n",
    "\n",
    "    if \"cwd\" not in globals():\n",
    "        global cwd\n",
    "        cwd = Path(os.getcwd()).parents[1]\n",
    "        os.chdir(cwd)\n",
    "\n",
    "\n",
    "set_paths()\n",
    "display(HTML(\"<style>.container { width:80% !important; }</style>\"))"
   ]
  },
  {
   "cell_type": "code",
   "execution_count": 6,
   "id": "95be1fd1",
   "metadata": {},
   "outputs": [
    {
     "data": {
      "application/javascript": [
       "\n",
       "            setTimeout(function() {\n",
       "                var nbb_cell_id = 6;\n",
       "                var nbb_unformatted_code = \"from crypto.utils import config_utils\";\n",
       "                var nbb_formatted_code = \"from crypto.utils import config_utils\";\n",
       "                var nbb_cells = Jupyter.notebook.get_cells();\n",
       "                for (var i = 0; i < nbb_cells.length; ++i) {\n",
       "                    if (nbb_cells[i].input_prompt_number == nbb_cell_id) {\n",
       "                        if (nbb_cells[i].get_text() == nbb_unformatted_code) {\n",
       "                             nbb_cells[i].set_text(nbb_formatted_code);\n",
       "                        }\n",
       "                        break;\n",
       "                    }\n",
       "                }\n",
       "            }, 500);\n",
       "            "
      ],
      "text/plain": [
       "<IPython.core.display.Javascript object>"
      ]
     },
     "metadata": {},
     "output_type": "display_data"
    }
   ],
   "source": [
    "# All modules within the src/crypto can be called like this:\n",
    "from crypto.utils import config_utils"
   ]
  },
  {
   "cell_type": "code",
   "execution_count": null,
   "id": "8814147a",
   "metadata": {},
   "outputs": [],
   "source": []
  }
 ],
 "metadata": {
  "kernelspec": {
   "display_name": "Python 3 (ipykernel)",
   "language": "python",
   "name": "python3"
  },
  "language_info": {
   "codemirror_mode": {
    "name": "ipython",
    "version": 3
   },
   "file_extension": ".py",
   "mimetype": "text/x-python",
   "name": "python",
   "nbconvert_exporter": "python",
   "pygments_lexer": "ipython3",
   "version": "3.9.6"
  }
 },
 "nbformat": 4,
 "nbformat_minor": 5
}
